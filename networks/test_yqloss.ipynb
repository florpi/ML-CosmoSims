{
 "cells": [
  {
   "cell_type": "code",
   "execution_count": 2,
   "metadata": {
    "collapsed": true
   },
   "outputs": [],
   "source": [
    "%load_ext autoreload\n",
    "%autoreload 2\n",
    "import argparse\n",
    "import os\n",
    "import random\n",
    "import shutil\n",
    "import time\n",
    "import warnings\n",
    "\n",
    "import torch\n",
    "import torch.nn as nn\n",
    "import torch.backends.cudnn as cudnn\n",
    "import torch.optim\n",
    "import torch.utils.data\n",
    "# import torch.utils.data.distributed\n",
    "# import torchvision.transforms as transforms\n",
    "# import torchvision.datasets as datasets\n",
    "# import torchvision.models as models\n",
    "\n",
    "from torch.utils import data\n",
    "import random\n",
    "import numpy as np\n",
    "from itertools import product\n",
    "\n",
    "import torch.nn.functional as F\n",
    "\n",
    "from args import args\n",
    "from train_f import *\n",
    "from Dataset import Dataset\n",
    "\n"
   ]
  },
  {
   "cell_type": "code",
   "execution_count": 131,
   "metadata": {
    "scrolled": true
   },
   "outputs": [
    {
     "data": {
      "text/plain": [
       "tensor([[[[[ 0.,  0., 99., 99.],\n",
       "           [99., 99., 99., 99.],\n",
       "           [99., 99., 99., 99.],\n",
       "           [99., 99., 99., 99.]],\n",
       "\n",
       "          [[ 0., 99., 99., 99.],\n",
       "           [99., 99., 99., 99.],\n",
       "           [99., 99., 99., 99.],\n",
       "           [99., 99., 99., 99.]],\n",
       "\n",
       "          [[ 0., 99., 99., 99.],\n",
       "           [99., 99., 99., 99.],\n",
       "           [99., 99., 99., 99.],\n",
       "           [99., 99., 99., 99.]],\n",
       "\n",
       "          [[99., 99., 99., 99.],\n",
       "           [99., 99., 99., 99.],\n",
       "           [99., 99., 99., 99.],\n",
       "           [99., 99., 99., 99.]]],\n",
       "\n",
       "\n",
       "         [[[99., 99.,  0.,  0.],\n",
       "           [ 0.,  0.,  0.,  0.],\n",
       "           [ 0.,  0.,  0.,  0.],\n",
       "           [ 0.,  0.,  0.,  0.]],\n",
       "\n",
       "          [[99.,  0.,  0.,  0.],\n",
       "           [ 0.,  0.,  0.,  0.],\n",
       "           [ 0.,  0.,  0.,  0.],\n",
       "           [ 0.,  0.,  0.,  0.]],\n",
       "\n",
       "          [[99.,  0.,  0.,  0.],\n",
       "           [ 0.,  0.,  0.,  0.],\n",
       "           [ 0.,  0.,  0.,  0.],\n",
       "           [ 0.,  0.,  0.,  0.]],\n",
       "\n",
       "          [[ 0.,  0.,  0.,  0.],\n",
       "           [ 0.,  0.,  0.,  0.],\n",
       "           [ 0.,  0.,  0.,  0.],\n",
       "           [ 0.,  0.,  0.,  0.]]]],\n",
       "\n",
       "\n",
       "\n",
       "        [[[[ 0.,  0., 99., 99.],\n",
       "           [99., 99., 99., 99.],\n",
       "           [99., 99., 99., 99.],\n",
       "           [99., 99., 99., 99.]],\n",
       "\n",
       "          [[ 0., 99., 99., 99.],\n",
       "           [99., 99., 99., 99.],\n",
       "           [99., 99., 99., 99.],\n",
       "           [99., 99., 99., 99.]],\n",
       "\n",
       "          [[ 0., 99., 99., 99.],\n",
       "           [99., 99., 99., 99.],\n",
       "           [99., 99., 99., 99.],\n",
       "           [99., 99., 99., 99.]],\n",
       "\n",
       "          [[99., 99., 99., 99.],\n",
       "           [99., 99., 99., 99.],\n",
       "           [99., 99., 99., 99.],\n",
       "           [99., 99., 99., 99.]]],\n",
       "\n",
       "\n",
       "         [[[99., 99.,  0.,  0.],\n",
       "           [ 0.,  0.,  0.,  0.],\n",
       "           [ 0.,  0.,  0.,  0.],\n",
       "           [ 0.,  0.,  0.,  0.]],\n",
       "\n",
       "          [[99.,  0.,  0.,  0.],\n",
       "           [ 0.,  0.,  0.,  0.],\n",
       "           [ 0.,  0.,  0.,  0.],\n",
       "           [ 0.,  0.,  0.,  0.]],\n",
       "\n",
       "          [[99.,  0.,  0.,  0.],\n",
       "           [ 0.,  0.,  0.,  0.],\n",
       "           [ 0.,  0.,  0.,  0.],\n",
       "           [ 0.,  0.,  0.,  0.]],\n",
       "\n",
       "          [[ 0.,  0.,  0.,  0.],\n",
       "           [ 0.,  0.,  0.,  0.],\n",
       "           [ 0.,  0.,  0.,  0.],\n",
       "           [ 0.,  0.,  0.,  0.]]]]])"
      ]
     },
     "execution_count": 131,
     "metadata": {},
     "output_type": "execute_result"
    }
   ],
   "source": [
    "pred = torch.Tensor(np.zeros((2,2,4,4,4)))\n",
    "pred[:,0,:,:,:] = 99\n",
    "#pred[0,1,1,1] = 1\n",
    "pred[:,1,0,0,0] = 99\n",
    "pred[:,0,0,0,0] = 0\n",
    "\n",
    "pred[:,1,0,0,1] = 99\n",
    "pred[:,0,0,0,1] = 0\n",
    "\n",
    "pred[:,1,1,0,0] = 99\n",
    "pred[:,0,1,0,0] = 0\n",
    "\n",
    "pred[:,1,2,0,0] = 99\n",
    "pred[:,0,2,0,0] = 0\n",
    "\n",
    "\n",
    "pred"
   ]
  },
  {
   "cell_type": "code",
   "execution_count": 132,
   "metadata": {},
   "outputs": [
    {
     "data": {
      "text/plain": [
       "tensor([[[[1, 0, 0, 0],\n",
       "          [0, 0, 0, 0],\n",
       "          [0, 0, 0, 0],\n",
       "          [0, 0, 0, 0]],\n",
       "\n",
       "         [[0, 0, 0, 0],\n",
       "          [0, 0, 0, 0],\n",
       "          [0, 0, 0, 0],\n",
       "          [0, 0, 0, 0]],\n",
       "\n",
       "         [[0, 0, 0, 0],\n",
       "          [0, 0, 0, 0],\n",
       "          [0, 0, 0, 0],\n",
       "          [0, 0, 0, 0]],\n",
       "\n",
       "         [[0, 0, 0, 0],\n",
       "          [0, 0, 0, 0],\n",
       "          [0, 0, 0, 0],\n",
       "          [0, 0, 0, 0]]],\n",
       "\n",
       "\n",
       "        [[[1, 0, 0, 0],\n",
       "          [0, 0, 0, 0],\n",
       "          [0, 0, 0, 0],\n",
       "          [0, 0, 0, 0]],\n",
       "\n",
       "         [[0, 0, 0, 0],\n",
       "          [0, 0, 0, 0],\n",
       "          [0, 0, 0, 0],\n",
       "          [0, 0, 0, 0]],\n",
       "\n",
       "         [[0, 0, 0, 0],\n",
       "          [0, 0, 0, 0],\n",
       "          [0, 0, 0, 0],\n",
       "          [0, 0, 0, 0]],\n",
       "\n",
       "         [[0, 0, 0, 0],\n",
       "          [0, 0, 0, 0],\n",
       "          [0, 0, 0, 0],\n",
       "          [0, 0, 0, 0]]]])"
      ]
     },
     "execution_count": 132,
     "metadata": {},
     "output_type": "execute_result"
    }
   ],
   "source": [
    "target= torch.Tensor(np.zeros((2,4,4,4))).long()\n",
    "target[:,0,0,0] = 1\n",
    "target"
   ]
  },
  {
   "cell_type": "code",
   "execution_count": 137,
   "metadata": {},
   "outputs": [
    {
     "data": {
      "text/plain": [
       "tensor([[[[1, 1, 0, 0],\n",
       "          [0, 0, 0, 0],\n",
       "          [0, 0, 0, 0],\n",
       "          [0, 0, 0, 0]],\n",
       "\n",
       "         [[1, 0, 0, 0],\n",
       "          [0, 0, 0, 0],\n",
       "          [0, 0, 0, 0],\n",
       "          [0, 0, 0, 0]],\n",
       "\n",
       "         [[1, 0, 0, 0],\n",
       "          [0, 0, 0, 0],\n",
       "          [0, 0, 0, 0],\n",
       "          [0, 0, 0, 0]],\n",
       "\n",
       "         [[0, 0, 0, 0],\n",
       "          [0, 0, 0, 0],\n",
       "          [0, 0, 0, 0],\n",
       "          [0, 0, 0, 0]]],\n",
       "\n",
       "\n",
       "        [[[1, 1, 0, 0],\n",
       "          [0, 0, 0, 0],\n",
       "          [0, 0, 0, 0],\n",
       "          [0, 0, 0, 0]],\n",
       "\n",
       "         [[1, 0, 0, 0],\n",
       "          [0, 0, 0, 0],\n",
       "          [0, 0, 0, 0],\n",
       "          [0, 0, 0, 0]],\n",
       "\n",
       "         [[1, 0, 0, 0],\n",
       "          [0, 0, 0, 0],\n",
       "          [0, 0, 0, 0],\n",
       "          [0, 0, 0, 0]],\n",
       "\n",
       "         [[0, 0, 0, 0],\n",
       "          [0, 0, 0, 0],\n",
       "          [0, 0, 0, 0],\n",
       "          [0, 0, 0, 0]]]])"
      ]
     },
     "execution_count": 137,
     "metadata": {},
     "output_type": "execute_result"
    }
   ],
   "source": [
    "outputs = F.softmax(pred, dim=1)\n",
    "predicted = outputs.max(1)[1]\n",
    "predicted"
   ]
  },
  {
   "cell_type": "code",
   "execution_count": 134,
   "metadata": {},
   "outputs": [
    {
     "data": {
      "text/plain": [
       "tensor(4.6406)"
      ]
     },
     "execution_count": 134,
     "metadata": {},
     "output_type": "execute_result"
    }
   ],
   "source": [
    "criterion = nn.CrossEntropyLoss()\n",
    "loss = criterion(pred, target)\n",
    "loss"
   ]
  },
  {
   "cell_type": "code",
   "execution_count": 145,
   "metadata": {},
   "outputs": [],
   "source": [
    "a = "
   ]
  },
  {
   "cell_type": "code",
   "execution_count": 146,
   "metadata": {},
   "outputs": [
    {
     "data": {
      "text/plain": [
       "tensor(128.)"
      ]
     },
     "execution_count": 146,
     "metadata": {},
     "output_type": "execute_result"
    }
   ],
   "source": [
    "torch.prod(torch.Tensor(list(predicted.size())))"
   ]
  },
  {
   "cell_type": "code",
   "execution_count": null,
   "metadata": {
    "collapsed": true
   },
   "outputs": [],
   "source": []
  },
  {
   "cell_type": "code",
   "execution_count": null,
   "metadata": {
    "collapsed": true
   },
   "outputs": [],
   "source": []
  },
  {
   "cell_type": "code",
   "execution_count": null,
   "metadata": {
    "collapsed": true
   },
   "outputs": [],
   "source": []
  },
  {
   "cell_type": "code",
   "execution_count": null,
   "metadata": {
    "collapsed": true
   },
   "outputs": [],
   "source": []
  },
  {
   "cell_type": "code",
   "execution_count": null,
   "metadata": {
    "collapsed": true
   },
   "outputs": [],
   "source": []
  },
  {
   "cell_type": "code",
   "execution_count": null,
   "metadata": {
    "collapsed": true
   },
   "outputs": [],
   "source": []
  },
  {
   "cell_type": "code",
   "execution_count": 157,
   "metadata": {},
   "outputs": [],
   "source": [
    "def blob_loss(predicted, kernel_size = 2):\n",
    "    predict = predicted\n",
    "    num_obs = predicted.size(0)\n",
    "    length = predicted.size(1)\n",
    "    cube_sums = []\n",
    "    for i0 in range(num_obs):\n",
    "        for i in range(0,length - kernel_size + 1):\n",
    "            for j in range(0,length - kernel_size + 1):\n",
    "                for k in range(0,length - kernel_size + 1):\n",
    "    #                 print('i' + str(i))\n",
    "    #                 print('j' + str(j))\n",
    "    #                 print('k' + str(k))\n",
    "                    cube_sum = torch.sum(predicted[i0,i:i + kernel_size, j:j + kernel_size,k:k + kernel_size])\n",
    "                    cube_sum_1 = 0 if cube_sum < 2 else (cube_sum.item() - 1) **2\n",
    "                    cube_sums.append(cube_sum_1)\n",
    "                    #print(cube_sum_1)\n",
    "    return torch.sum(torch.Tensor(cube_sums)) / torch.prod(torch.Tensor(list(predicted.size())))"
   ]
  },
  {
   "cell_type": "code",
   "execution_count": 158,
   "metadata": {},
   "outputs": [
    {
     "name": "stdout",
     "output_type": "stream",
     "text": [
      "tensor(4.6406)\n",
      "tensor(0.0781)\n"
     ]
    },
    {
     "data": {
      "text/plain": [
       "tensor(4.6484)"
      ]
     },
     "execution_count": 158,
     "metadata": {},
     "output_type": "execute_result"
    }
   ],
   "source": [
    "criterion = nn.CrossEntropyLoss(weight = torch.Tensor([0.5,0.5]))\n",
    "loss_nn = criterion(pred, target)\n",
    "loss_blob = blob_loss(predicted, kernel_size = 2)\n",
    "print(loss_nn)\n",
    "print(loss_blob)\n",
    "loss = loss_nn + torch.tensor(0.1 * loss_blob)\n",
    "loss"
   ]
  },
  {
   "cell_type": "code",
   "execution_count": 166,
   "metadata": {},
   "outputs": [
    {
     "data": {
      "text/plain": [
       "tensor(5.4219)"
      ]
     },
     "execution_count": 166,
     "metadata": {},
     "output_type": "execute_result"
    }
   ],
   "source": [
    "def yqloss(weight, w):\n",
    "    def yqloss_(pred, target, w = 5, kernel_size = 3):\n",
    "        criterion = nn.CrossEntropyLoss(weight = weight)\n",
    "        loss_nn = criterion(pred, target)\n",
    "        loss_blob = blob_loss(predicted, kernel_size = kernel_size)\n",
    "        loss = loss_nn + torch.tensor(w * loss_blob)\n",
    "        return loss\n",
    "    return yqloss_\n",
    "criterion = yqloss(torch.Tensor([0.5,0.5]),torch.Tensor([10]))\n",
    "criterion(pred, target)"
   ]
  },
  {
   "cell_type": "code",
   "execution_count": null,
   "metadata": {
    "collapsed": true
   },
   "outputs": [],
   "source": []
  },
  {
   "cell_type": "code",
   "execution_count": null,
   "metadata": {
    "collapsed": true
   },
   "outputs": [],
   "source": []
  },
  {
   "cell_type": "code",
   "execution_count": null,
   "metadata": {
    "collapsed": true
   },
   "outputs": [],
   "source": []
  },
  {
   "cell_type": "code",
   "execution_count": null,
   "metadata": {
    "collapsed": true
   },
   "outputs": [],
   "source": []
  },
  {
   "cell_type": "code",
   "execution_count": null,
   "metadata": {
    "collapsed": true
   },
   "outputs": [],
   "source": []
  }
 ],
 "metadata": {
  "kernelspec": {
   "display_name": "Python [conda env:anaconda]",
   "language": "python",
   "name": "conda-env-anaconda-py"
  },
  "language_info": {
   "codemirror_mode": {
    "name": "ipython",
    "version": 3
   },
   "file_extension": ".py",
   "mimetype": "text/x-python",
   "name": "python",
   "nbconvert_exporter": "python",
   "pygments_lexer": "ipython3",
   "version": "3.5.3"
  }
 },
 "nbformat": 4,
 "nbformat_minor": 2
}
