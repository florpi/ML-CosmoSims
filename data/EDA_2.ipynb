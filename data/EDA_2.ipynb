{
 "cells": [
  {
   "cell_type": "code",
   "execution_count": 25,
   "metadata": {},
   "outputs": [],
   "source": [
    "from __future__ import division\n",
    "import numpy as np\n",
    "import matplotlib.pyplot as plt\n",
    "import matplotlib.patches as patches\n",
    "from scipy.stats import binned_statistic\n",
    "import h5py\n",
    "import gc"
   ]
  },
  {
   "cell_type": "code",
   "execution_count": 2,
   "metadata": {},
   "outputs": [],
   "source": [
    "snapshot = 99\n",
    "cvoxels = 1024\n",
    "pvoxels = 32\n",
    "sim_boxsize = 205 # Mpc/h\n",
    "\n",
    "sim_data = 'dark_matter_only'\n",
    "data_dir = '/cosma7/data/dp004/dc-beck3/Dark2Light/data/%s/' % sim_data\n",
    "sim_label = 'full_physics'\n",
    "label_dir = '/cosma7/data/dp004/dc-beck3/Dark2Light/data/%s/' % sim_label\n",
    "\n",
    "train_data_file = data_dir + '%s_s%d_v%d_dm_train.h5' % (sim_data, snapshot, cvoxels)\n",
    "train_label_file = label_dir + '%s_s%d_v%d_dm_train.h5' % (sim_label, snapshot, cvoxels)\n",
    "\n",
    "valid_data_file = data_dir + '%s_s%d_v%d_dm_valid.h5' % (sim_data, snapshot, cvoxels)\n",
    "valid_label_file = label_dir + '%s_s%d_v%d_dm_valid.h5' % (sim_label, snapshot, cvoxels)\n",
    "\n",
    "test_data_file = data_dir + '%s_s%d_v%d_dm_test.h5' % (sim_data, snapshot, cvoxels)\n",
    "test_label_file = label_dir + '%s_s%d_v%d_dm_test.h5' % (sim_label, snapshot, cvoxels)"
   ]
  },
  {
   "cell_type": "code",
   "execution_count": 3,
   "metadata": {},
   "outputs": [
    {
     "name": "stdout",
     "output_type": "stream",
     "text": [
      "If the simulation-box is devided into 32 parent-voxels, the network would see a box with an edge-length of 6.41 Mpc/h at a time\n"
     ]
    }
   ],
   "source": [
    "print(\n",
    "    \"If the simulation-box is devided into %d parent-voxels, \" % (pvoxels) + \\\n",
    "    \"the network would see a box with an edge-length of %.2f Mpc/h at a time\" % (sim_boxsize/pvoxels))"
   ]
  },
  {
   "cell_type": "code",
   "execution_count": 26,
   "metadata": {},
   "outputs": [
    {
     "ename": "TypeError",
     "evalue": "data type not understood",
     "output_type": "error",
     "traceback": [
      "\u001b[0;31m---------------------------------------------------------------------------\u001b[0m",
      "\u001b[0;31mTypeError\u001b[0m                                 Traceback (most recent call last)",
      "\u001b[0;32m<ipython-input-26-8025f9d949a2>\u001b[0m in \u001b[0;36m<module>\u001b[0;34m()\u001b[0m\n\u001b[1;32m     11\u001b[0m \u001b[0;34m\u001b[0m\u001b[0m\n\u001b[1;32m     12\u001b[0m \u001b[0mpvoxels\u001b[0m \u001b[0;34m=\u001b[0m \u001b[0mh5py\u001b[0m\u001b[0;34m.\u001b[0m\u001b[0mFile\u001b[0m\u001b[0;34m(\u001b[0m\u001b[0mtrain_data_file\u001b[0m\u001b[0;34m,\u001b[0m \u001b[0;34m\"r\"\u001b[0m\u001b[0;34m)\u001b[0m\u001b[0;34m\u001b[0m\u001b[0m\n\u001b[0;32m---> 13\u001b[0;31m \u001b[0mtrain_data_content\u001b[0m \u001b[0;34m=\u001b[0m \u001b[0mload_data\u001b[0m\u001b[0;34m(\u001b[0m\u001b[0mpvoxels\u001b[0m\u001b[0;34m)\u001b[0m\u001b[0;34m\u001b[0m\u001b[0m\n\u001b[0m\u001b[1;32m     14\u001b[0m \u001b[0mpvoxels\u001b[0m \u001b[0;34m=\u001b[0m \u001b[0mh5py\u001b[0m\u001b[0;34m.\u001b[0m\u001b[0mFile\u001b[0m\u001b[0;34m(\u001b[0m\u001b[0mtrain_label_file\u001b[0m\u001b[0;34m,\u001b[0m \u001b[0;34m\"r\"\u001b[0m\u001b[0;34m)\u001b[0m\u001b[0;34m\u001b[0m\u001b[0m\n\u001b[1;32m     15\u001b[0m \u001b[0mtrain_label_content\u001b[0m \u001b[0;34m=\u001b[0m \u001b[0mload_data\u001b[0m\u001b[0;34m(\u001b[0m\u001b[0mpvoxels\u001b[0m\u001b[0;34m)\u001b[0m\u001b[0;34m\u001b[0m\u001b[0m\n",
      "\u001b[0;32m<ipython-input-26-8025f9d949a2>\u001b[0m in \u001b[0;36mload_data\u001b[0;34m(pvoxels)\u001b[0m\n\u001b[1;32m      2\u001b[0m \u001b[0;34m\u001b[0m\u001b[0m\n\u001b[1;32m      3\u001b[0m \u001b[0;32mdef\u001b[0m \u001b[0mload_data\u001b[0m\u001b[0;34m(\u001b[0m\u001b[0mpvoxels\u001b[0m\u001b[0;34m)\u001b[0m\u001b[0;34m:\u001b[0m\u001b[0;34m\u001b[0m\u001b[0m\n\u001b[0;32m----> 4\u001b[0;31m     \u001b[0mcontent\u001b[0m \u001b[0;34m=\u001b[0m \u001b[0mnp\u001b[0m\u001b[0;34m.\u001b[0m\u001b[0mzeros\u001b[0m\u001b[0;34m(\u001b[0m\u001b[0;34m(\u001b[0m\u001b[0mlen\u001b[0m\u001b[0;34m(\u001b[0m\u001b[0mpvoxels\u001b[0m\u001b[0;34m.\u001b[0m\u001b[0mkeys\u001b[0m\u001b[0;34m(\u001b[0m\u001b[0;34m)\u001b[0m\u001b[0;34m)\u001b[0m\u001b[0;34m)\u001b[0m\u001b[0;34m,\u001b[0m \u001b[0;36m2\u001b[0m\u001b[0;34m)\u001b[0m\u001b[0;34m\u001b[0m\u001b[0m\n\u001b[0m\u001b[1;32m      5\u001b[0m     \u001b[0mii\u001b[0m \u001b[0;34m=\u001b[0m \u001b[0;36m0\u001b[0m\u001b[0;34m\u001b[0m\u001b[0m\n\u001b[1;32m      6\u001b[0m     \u001b[0;32mfor\u001b[0m \u001b[0mk\u001b[0m\u001b[0;34m,\u001b[0m \u001b[0mv\u001b[0m \u001b[0;32min\u001b[0m \u001b[0mpvoxels\u001b[0m\u001b[0;34m.\u001b[0m\u001b[0mitems\u001b[0m\u001b[0;34m(\u001b[0m\u001b[0;34m)\u001b[0m\u001b[0;34m:\u001b[0m\u001b[0;34m\u001b[0m\u001b[0m\n",
      "\u001b[0;31mTypeError\u001b[0m: data type not understood"
     ]
    }
   ],
   "source": [
    "# load train data\n",
    "\n",
    "def load_data(pvoxels):\n",
    "    content = np.zeros((len(pvoxels.keys()), 2))\n",
    "    ii = 0\n",
    "    for k, v in pvoxels.items():                                                   \n",
    "        content[ii, 0] = np.count_nonzero(v)\n",
    "        content[ii, 1] = np.sum(v)\n",
    "        ii += 1\n",
    "    return content\n",
    "\n",
    "pvoxels = h5py.File(train_data_file, \"r\")\n",
    "train_data_content = load_data(pvoxels)\n",
    "pvoxels = h5py.File(train_label_file, \"r\")\n",
    "train_label_content = load_data(pvoxels)\n",
    "train = {\n",
    "    \"data\" : train_data_content,\n",
    "    \"label\" : train_label_content,\n",
    "}\n",
    "\n",
    "pvoxels = h5py.File(valid_data_file, \"r\")\n",
    "valid_data_content = load_data(pvoxels)\n",
    "pvoxels = h5py.File(valid_label_file, \"r\")\n",
    "valid_label_content = load_data(pvoxels)\n",
    "valid = {\n",
    "    \"data\" : valid_data_content,\n",
    "    \"label\" : valid_label_content,\n",
    "}\n",
    "\n",
    "pvoxels = h5py.File(test_data_file, \"r\")\n",
    "test_data_content = load_data(pvoxels)\n",
    "pvoxels = h5py.File(test_label_file, \"r\")\n",
    "test_label_content = load_data(pvoxels)\n",
    "test = {\n",
    "    \"data\" : test_data_content,\n",
    "    \"label\" : test_label_content,\n",
    "}\n",
    "\n",
    "del pvoxels\n",
    "gc.collect()"
   ]
  },
  {
   "cell_type": "code",
   "execution_count": 21,
   "metadata": {},
   "outputs": [
    {
     "name": "stdout",
     "output_type": "stream",
     "text": [
      "16780.0 31897.0\n",
      "17251.0 31893.0\n"
     ]
    }
   ],
   "source": [
    "print(np.min(train[\"data\"][:,0]), np.max(train[\"data\"][:,0]))\n",
    "print(np.min(train[\"label\"][:,0]), np.max(train[\"label\"][:,0]))"
   ]
  },
  {
   "cell_type": "code",
   "execution_count": 14,
   "metadata": {},
   "outputs": [],
   "source": [
    "# Stars\n",
    "stars_filename = filename + '_st_r.npy'\n",
    "stars = np.load(data_dir + stars_filename)"
   ]
  },
  {
   "cell_type": "code",
   "execution_count": 15,
   "metadata": {},
   "outputs": [],
   "source": [
    "total_n_stars = np.sum(stars)\n",
    "max_n_stars = np.max(stars)\n",
    "mean_n_stars = np.mean(stars)"
   ]
  },
  {
   "cell_type": "code",
   "execution_count": 42,
   "metadata": {},
   "outputs": [],
   "source": [
    "non_zero_stars_cells = len(np.where(stars.flatten() != 0. )[0])\n",
    "percent_non_zero_stars_cells = non_zero_stars_cells/n_voxels**3\n"
   ]
  },
  {
   "cell_type": "code",
   "execution_count": 17,
   "metadata": {},
   "outputs": [],
   "source": [
    "# Subhalos\n",
    "sh_filename = filename + '_sh_r.npy'\n",
    "sh = np.load(data_dir + sh_filename)"
   ]
  },
  {
   "cell_type": "code",
   "execution_count": 18,
   "metadata": {},
   "outputs": [],
   "source": [
    "total_n_sh = np.sum(sh)\n",
    "max_n_sh = np.max(sh)\n",
    "mean_n_sh = np.mean(sh)"
   ]
  },
  {
   "cell_type": "code",
   "execution_count": 19,
   "metadata": {},
   "outputs": [],
   "source": [
    "non_zero_sh_cells = len(np.where(sh.flatten() != 0. )[0])\n",
    "percent_non_zero_sh_cells = non_zero_sh_cells/n_voxels**3\n"
   ]
  },
  {
   "cell_type": "code",
   "execution_count": 20,
   "metadata": {},
   "outputs": [
    {
     "name": "stdout",
     "output_type": "stream",
     "text": [
      "19.34% of the cells have non-zero dark matter particles\n",
      "0.05% of the cells have non-zero stellar particles\n",
      "0.10% of the cells have non-zero subhalos\n"
     ]
    }
   ],
   "source": [
    "print('%.2f%% of the cells have non-zero dark matter particles'%(percent_non_zero_dm_cells * 100))\n",
    "print('%.2f%% of the cells have non-zero stellar particles'%(percent_non_zero_stars_cells * 100))\n",
    "print('%.2f%% of the cells have non-zero subhalos'%(percent_non_zero_sh_cells * 100))"
   ]
  },
  {
   "cell_type": "code",
   "execution_count": 21,
   "metadata": {
    "scrolled": true
   },
   "outputs": [
    {
     "name": "stdout",
     "output_type": "stream",
     "text": [
      "Total numbers:\n",
      "134217728 total dm particles\n",
      "803357 total stellar particles\n",
      "143434 total subhalos\n"
     ]
    }
   ],
   "source": [
    "print('Total numbers:')\n",
    "print('%d total dm particles'%total_n_dm)\n",
    "print('%d total stellar particles'%total_n_stars)\n",
    "print('%d total subhalos'%total_n_sh)"
   ]
  },
  {
   "cell_type": "code",
   "execution_count": 22,
   "metadata": {},
   "outputs": [
    {
     "name": "stdout",
     "output_type": "stream",
     "text": [
      "Ranges:\n",
      "(0, 63792) dm particles/voxel\n",
      "(0, 19470) stellar particles/voxel\n",
      "(0, 5) subhalos/voxel\n"
     ]
    }
   ],
   "source": [
    "print('Ranges:')\n",
    "print('(%d, %d) dm particles/voxel'%(0,max_n_dm))\n",
    "print('(%d, %d) stellar particles/voxel'%(0,max_n_stars))\n",
    "print('(%d, %d) subhalos/voxel'%(0,max_n_sh))"
   ]
  },
  {
   "cell_type": "code",
   "execution_count": 23,
   "metadata": {},
   "outputs": [],
   "source": [
    "# Get rid of voxels with no dark matter\n",
    "dm_only_full = dm_only[np.where(dm_only > 0)]\n",
    "stars_full = stars[np.where(dm_only > 0)]"
   ]
  },
  {
   "cell_type": "code",
   "execution_count": 31,
   "metadata": {},
   "outputs": [],
   "source": [
    "# How many stars are there in empty dark matter voxels?\n",
    "stars_empty = stars[np.where(dm_only == 0)]"
   ]
  },
  {
   "cell_type": "code",
   "execution_count": 36,
   "metadata": {},
   "outputs": [
    {
     "name": "stdout",
     "output_type": "stream",
     "text": [
      "There are 124 voxels with no dark matter, but some stars\n"
     ]
    }
   ],
   "source": [
    "stars_full_dm_empty = len(stars_empty[stars_empty > 0])\n",
    "print(f'There are {stars_full_dm_empty} voxels with no dark matter, but some stars')"
   ]
  },
  {
   "cell_type": "code",
   "execution_count": 47,
   "metadata": {},
   "outputs": [
    {
     "name": "stdout",
     "output_type": "stream",
     "text": [
      "61801 dm occupied cells have non-zero stellar particles\n",
      "0.24% dm occupied cells have non-zero stellar particles\n"
     ]
    }
   ],
   "source": [
    "non_zero_stars_cells_full_dm = len(np.where(stars_full > 0 )[0])\n",
    "\n",
    "print('%d dm occupied cells have non-zero stellar particles'%(non_zero_stars_cells_full_dm))\n",
    "\n",
    "print('%.2f%% dm occupied cells have non-zero stellar particles'%(100*non_zero_stars_cells_full_dm/len(dm_only_full)))\n"
   ]
  },
  {
   "cell_type": "code",
   "execution_count": 54,
   "metadata": {},
   "outputs": [],
   "source": [
    "\n",
    "flat_dm_only = dm_only.flatten()\n",
    "flat_stars = stars.flatten()\n",
    "\n",
    "bins = np.logspace(1, np.log10(max_n_dm),100)\n"
   ]
  },
  {
   "cell_type": "code",
   "execution_count": 55,
   "metadata": {},
   "outputs": [],
   "source": [
    "# Plot percentage of empty star voxels compared to number of dark matter particles\n",
    "\n",
    "stars_occupation = flat_stars.copy()\n",
    "stars_occupation[flat_stars > 0] = 1\n",
    "stars_occupation[flat_stars == 0] = 0\n"
   ]
  },
  {
   "cell_type": "code",
   "execution_count": 63,
   "metadata": {},
   "outputs": [],
   "source": [
    "bin_means, bin_edges, binnumber = binned_statistic(dm_only.flatten(),\n",
    "                    flat_stars.flatten(), bins=bins)\n",
    "bin_std, bin_edges, binnumber = binned_statistic(dm_only.flatten(),\n",
    "                    flat_stars.flatten(), statistic='std', bins=bins)"
   ]
  },
  {
   "cell_type": "code",
   "execution_count": 64,
   "metadata": {},
   "outputs": [],
   "source": [
    "bin_center = 0.5*(bin_edges[1:] + bin_edges[:-1])"
   ]
  },
  {
   "cell_type": "code",
   "execution_count": 65,
   "metadata": {},
   "outputs": [
    {
     "data": {
      "image/png": "[encoded data removed]",
      "text/plain": [
       "<Figure size 432x288 with 1 Axes>"
      ]
     },
     "metadata": {},
     "output_type": "display_data"
    }
   ],
   "source": [
    "#minimum_dm_particles = 300\n",
    "\n",
    "plt.loglog((bin_center), (bin_means))#, yerr = (bin_std))\n",
    "\n",
    "#plt.errorbar(np.log10(bin_center), np.log10(bin_means), yerr = np.log10(bin_std))\n",
    "\n",
    "#plt.axvline(x = minimum_dm_particles,\n",
    "#            linestyle='dashed', color='red')\n",
    "plt.xlabel('Number of dark matter particles')\n",
    "plt.ylabel('Mean number of stars')\n",
    "plt.grid()"
   ]
  },
  {
   "cell_type": "code",
   "execution_count": 81,
   "metadata": {},
   "outputs": [],
   "source": [
    "# Plot percentage of occupied cells as function of cut\n",
    "\n",
    "cuts = np.linspace(50,1000,100)\n",
    "percent = []\n",
    "cum = []\n",
    "minimum_n_stars = 50\n",
    "\n",
    "for cut in cuts:\n",
    "    \n",
    "    total_voxels = len(flat_dm_only[flat_dm_only > cut])\n",
    "    star_occupied_voxels = flat_stars[~(flat_dm_only > cut)]\n",
    "    percent.append(len(star_occupied_voxels[star_occupied_voxels > 0]))\n",
    "    \n",
    "    cum.append(np.sum(star_occupied_voxels[star_occupied_voxels > 0]))"
   ]
  },
  {
   "cell_type": "code",
   "execution_count": 60,
   "metadata": {},
   "outputs": [
    {
     "data": {
      "text/plain": [
       "Text(0.5,0,'Dark matter n particles cut')"
      ]
     },
     "execution_count": 60,
     "metadata": {},
     "output_type": "execute_result"
    },
    {
     "data": {
      "image/png": "[encoded data removed]",
      "text/plain": [
       "<Figure size 432x288 with 1 Axes>"
      ]
     },
     "metadata": {},
     "output_type": "display_data"
    }
   ],
   "source": [
    "plt.plot(cuts, np.asarray(percent)/len(stars_occupation[stars_occupation > 0]))\n",
    "plt.ylabel('Number of cells with stars that are discarded')\n",
    "plt.xlabel('Dark matter n particles cut')"
   ]
  },
  {
   "cell_type": "code",
   "execution_count": 82,
   "metadata": {},
   "outputs": [
    {
     "data": {
      "text/plain": [
       "Text(0.5,0,'Dark matter n particles cut')"
      ]
     },
     "execution_count": 82,
     "metadata": {},
     "output_type": "execute_result"
    },
    {
     "data": {
      "image/png": "[encoded data removed]",
      "text/plain": [
       "<Figure size 432x288 with 1 Axes>"
      ]
     },
     "metadata": {},
     "output_type": "display_data"
    }
   ],
   "source": [
    "plt.plot(cuts, np.asarray(cum)/total_n_stars)\n",
    "plt.ylabel('Number of stellar particles that are discarded')\n",
    "plt.xlabel('Dark matter n particles cut')"
   ]
  },
  {
   "cell_type": "code",
   "execution_count": 70,
   "metadata": {},
   "outputs": [],
   "source": [
    "minimum_n_dm = 50\n",
    "\n",
    "dm_only_minimum = dm_only[np.where(dm_only > minimum_n_dm)]\n",
    "stars_minimum = stars[np.where(dm_only > minimum_n_dm)]"
   ]
  },
  {
   "cell_type": "code",
   "execution_count": 88,
   "metadata": {},
   "outputs": [
    {
     "name": "stdout",
     "output_type": "stream",
     "text": [
      "There are 20.179413053000438 with stars, after selecting minimum 50 dm particles\n",
      "But only 0.5544235003865031 percent of the star particles are thrown away.\n"
     ]
    }
   ],
   "source": [
    "\n",
    "percentage_non_empty_stars = 100 * len(stars_minimum[stars_minimum > 0])/len(dm_only_minimum)\n",
    "\n",
    "discarded_stars = flat_stars[~(flat_dm_only > minimum_n_dm)]\n",
    "\n",
    "print(f'There are {percentage_non_empty_stars} with stars, after selecting minimum 50 dm particles')\n",
    "print(f'But only {100 * np.sum(discarded_stars)/total_n_stars} percent of the star particles are thrown away.')"
   ]
  },
  {
   "cell_type": "code",
   "execution_count": 23,
   "metadata": {},
   "outputs": [],
   "source": [
    "box_size = 80 # voxels per box side\n",
    "idx = np.arange(0,n_voxels,1)\n",
    "start_idx_x = 50\n",
    "threshold_x = (idx > start_idx_x) & (idx < start_idx_x + box_size)\n",
    "start_idx_y = 300\n",
    "threshold_y = (idx > start_idx_y) & (idx < start_idx_y + box_size)\n",
    "start_idx_z = 70\n",
    "threshold_z = (idx > start_idx_z) & (idx < start_idx_z + box_size)\n"
   ]
  },
  {
   "cell_type": "code",
   "execution_count": 24,
   "metadata": {},
   "outputs": [],
   "source": [
    "# Plot one of the boxes (32 voxels)\n",
    "dm_box_projection = dm_only[threshold_x,:,:]\n",
    "dm_box_projection = dm_box_projection[:,threshold_y,:]\n",
    "dm_box_projection = np.sum(dm_box_projection[:,:,threshold_z],axis=-1)"
   ]
  },
  {
   "cell_type": "code",
   "execution_count": 25,
   "metadata": {},
   "outputs": [],
   "source": [
    "xlabels_pos = np.arange(0,box_size,40)\n",
    "xlabels = np.round(xlabels_pos * voxel_size, decimals=2)"
   ]
  },
  {
   "cell_type": "code",
   "execution_count": 26,
   "metadata": {},
   "outputs": [],
   "source": [
    "reference_box = np.zeros_like(dm_box_projection)"
   ]
  },
  {
   "cell_type": "code",
   "execution_count": 27,
   "metadata": {},
   "outputs": [],
   "source": [
    "reference_box[:32,32] = np.ones(32)\n",
    "reference_box[32,:32] = np.ones(32)"
   ]
  },
  {
   "cell_type": "code",
   "execution_count": 28,
   "metadata": {},
   "outputs": [],
   "source": [
    "star_box_projection = stars[threshold_x,:,:]\n",
    "star_box_projection = star_box_projection[:,threshold_y,:]\n",
    "star_box_projection = np.sum(star_box_projection[:,:,threshold_z],axis=-1)"
   ]
  },
  {
   "cell_type": "code",
   "execution_count": 29,
   "metadata": {},
   "outputs": [],
   "source": [
    "sh_box_projection = sh[threshold_x,:,:]\n",
    "sh_box_projection = sh_box_projection[:,threshold_y,:]\n",
    "sh_box_projection = np.sum(sh_box_projection[:,:,threshold_z],axis=-1)"
   ]
  },
  {
   "cell_type": "code",
   "execution_count": 30,
   "metadata": {},
   "outputs": [
    {
     "name": "stderr",
     "output_type": "stream",
     "text": [
      "/cosma/local/pythonconda3/4.5.4/lib/python3.6/site-packages/ipykernel_launcher.py:7: RuntimeWarning: divide by zero encountered in log10\n",
      "  import sys\n"
     ]
    },
    {
     "data": {
      "image/png": "[encoded data removed]",
      "text/plain": [
       "<Figure size 1440x4320 with 3 Axes>"
      ]
     },
     "metadata": {},
     "output_type": "display_data"
    }
   ],
   "source": [
    "fig,axes = plt.subplots(1,3, figsize=(20,60))\n",
    "boxes_to_show = [dm_box_projection, star_box_projection, sh_box_projection]\n",
    "cmaps = ['gray', 'gray', 'hot']\n",
    "for i, ax in enumerate(axes):\n",
    "    \n",
    "    #if(i==0):\n",
    "    ax.imshow(np.log10(boxes_to_show[i]), cmap=cmaps[i])\n",
    "    #else:\n",
    "    #    ax.imshow((boxes_to_show[i]), cmap=cmaps[i])\n",
    "\n",
    "\n",
    "    rect = patches.Rectangle((0,0),32,32,linewidth=2,edgecolor='r',facecolor='none')\n",
    "\n",
    "    # Add the patch to the Axes\n",
    "    ax.add_patch(rect)\n",
    "    ax.set_xticks(xlabels_pos)\n",
    "    ax.set_xticklabels(xlabels)\n",
    "    ax.set_yticks(xlabels_pos)\n",
    "    ax.set_yticklabels( xlabels)\n",
    "    ax.set_xlabel('Mpc/h')\n",
    "    ax.set_ylabel('Mpc/h')\n",
    "    "
   ]
  },
  {
   "cell_type": "code",
   "execution_count": 31,
   "metadata": {},
   "outputs": [
    {
     "data": {
      "text/plain": [
       "<matplotlib.colorbar.Colorbar at 0x2ab74166e898>"
      ]
     },
     "execution_count": 31,
     "metadata": {},
     "output_type": "execute_result"
    },
    {
     "data": {
      "image/png": "[encoded data removed]",
      "text/plain": [
       "<Figure size 432x288 with 2 Axes>"
      ]
     },
     "metadata": {},
     "output_type": "display_data"
    }
   ],
   "source": [
    "fig,ax = plt.subplots(1)\n",
    "\n",
    "im = ax.imshow((boxes_to_show[0]), cmap='gray')\n",
    "\n",
    "rect = patches.Rectangle((0,0),32,32,linewidth=1,edgecolor='r',facecolor='none')\n",
    "\n",
    "# Add the patch to the Axes\n",
    "ax.add_patch(rect)\n",
    "ax.set_xticks(xlabels_pos)\n",
    "ax.set_xticklabels(xlabels)\n",
    "ax.set_yticks(xlabels_pos)\n",
    "ax.set_yticklabels( xlabels)\n",
    "ax.set_xlabel('Mpc/h')\n",
    "ax.set_ylabel('Mpc/h')\n",
    "fig.colorbar(im)"
   ]
  },
  {
   "cell_type": "code",
   "execution_count": 32,
   "metadata": {},
   "outputs": [
    {
     "data": {
      "text/plain": [
       "<matplotlib.colorbar.Colorbar at 0x2ab743f46710>"
      ]
     },
     "execution_count": 32,
     "metadata": {},
     "output_type": "execute_result"
    },
    {
     "data": {
      "image/png": "[encoded data removed]",
      "text/plain": [
       "<Figure size 432x288 with 2 Axes>"
      ]
     },
     "metadata": {},
     "output_type": "display_data"
    }
   ],
   "source": [
    "fig,ax = plt.subplots(1)\n",
    "\n",
    "im = ax.imshow((boxes_to_show[1]), cmap='hot')\n",
    "\n",
    "rect = patches.Rectangle((0,0),32,32,linewidth=1,edgecolor='r',facecolor='none')\n",
    "\n",
    "# Add the patch to the Axes\n",
    "ax.add_patch(rect)\n",
    "ax.set_xticks(xlabels_pos)\n",
    "ax.set_xticklabels(xlabels)\n",
    "ax.set_yticks(xlabels_pos)\n",
    "ax.set_yticklabels( xlabels)\n",
    "ax.set_xlabel('Mpc/h')\n",
    "ax.set_ylabel('Mpc/h')\n",
    "fig.colorbar(im)"
   ]
  },
  {
   "cell_type": "code",
   "execution_count": 33,
   "metadata": {},
   "outputs": [
    {
     "data": {
      "text/plain": [
       "<matplotlib.colorbar.Colorbar at 0x2ab743fbd9e8>"
      ]
     },
     "execution_count": 33,
     "metadata": {},
     "output_type": "execute_result"
    },
    {
     "data": {
      "image/png": "[encoded data removed]",
      "text/plain": [
       "<Figure size 432x288 with 2 Axes>"
      ]
     },
     "metadata": {},
     "output_type": "display_data"
    }
   ],
   "source": [
    "fig,ax = plt.subplots(1)\n",
    "\n",
    "im = ax.imshow((boxes_to_show[-1]), cmap='hot')\n",
    "\n",
    "rect = patches.Rectangle((0,0),32,32,linewidth=1,edgecolor='r',facecolor='none')\n",
    "\n",
    "# Add the patch to the Axes\n",
    "ax.add_patch(rect)\n",
    "ax.set_xticks(xlabels_pos)\n",
    "ax.set_xticklabels(xlabels)\n",
    "ax.set_yticks(xlabels_pos)\n",
    "ax.set_yticklabels( xlabels)\n",
    "ax.set_xlabel('Mpc/h')\n",
    "ax.set_ylabel('Mpc/h')\n",
    "fig.colorbar(im)"
   ]
  },
  {
   "cell_type": "code",
   "execution_count": null,
   "metadata": {},
   "outputs": [],
   "source": []
  },
  {
   "cell_type": "code",
   "execution_count": null,
   "metadata": {},
   "outputs": [],
   "source": []
  }
 ],
 "metadata": {
  "kernelspec": {
   "display_name": "Python 3",
   "language": "python",
   "name": "python3"
  },
  "language_info": {
   "codemirror_mode": {
    "name": "ipython",
    "version": 3
   },
   "file_extension": ".py",
   "mimetype": "text/x-python",
   "name": "python",
   "nbconvert_exporter": "python",
   "pygments_lexer": "ipython3",
   "version": "3.6.5"
  }
 },
 "nbformat": 4,
 "nbformat_minor": 2
}
