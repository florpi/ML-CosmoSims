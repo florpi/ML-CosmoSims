{
 "cells": [
  {
   "cell_type": "code",
   "execution_count": 1,
   "metadata": {
    "collapsed": true
   },
   "outputs": [],
   "source": [
    "import torch\n",
    "import torch.nn as nn\n",
    "import torch.nn.functional as F\n",
    "from torch.nn import init"
   ]
  },
  {
   "cell_type": "code",
   "execution_count": 8,
   "metadata": {},
   "outputs": [],
   "source": [
    "class Recurrent_Conv(nn.Module):\n",
    "    def __init__(self, out_channels, t):\n",
    "        super(Recurrent_Conv, self).__init__()\n",
    "        self.t = t\n",
    "        self.out_ch = out_channels\n",
    "        self.conv = nn.Sequential(\n",
    "            nn.Conv3d(self.out_ch, self.out_ch, kernel_size=3,stride=1,padding=1,bias=True),\n",
    "            nn.ReLU(inplace=True)\n",
    "        )\n",
    "\n",
    "    def forward(self,x):\n",
    "        for i in range(self.t):\n",
    "            if i==0:\n",
    "                x1 = self.conv(x)    \n",
    "            x1 = self.conv(x + x1)\n",
    "        return x1\n",
    "        \n",
    "class R2CNN(nn.Module): \n",
    "    def __init__(self, in_channels, out_channels, t):\n",
    "        super(R2CNN, self).__init__()\n",
    "        self.in_ch = in_channels\n",
    "        self.out_ch = out_channels\n",
    "        self.t = t\n",
    "        self.RCNN = nn.Sequential(\n",
    "            Recurrent_Conv(self.out_ch, self.t),\n",
    "            Recurrent_Conv(self.out_ch, self.t)\n",
    "        )\n",
    "        self.initial_conv = nn.Conv3d(self.in_ch, self.out_ch, kernel_size=1, stride=1, padding=0)\n",
    "\n",
    "    def forward(self,x):\n",
    "        x = self.initial_conv(x)\n",
    "        x1 = self.RCNN(x)\n",
    "        return x+x1\n",
    "\n",
    "class R2Unet(nn.Module):\n",
    "    def __init__(self, in_channels, out_channels, t):\n",
    "        super(R2Unet, self).__init__()\n",
    "        self.in_ch= in_channels\n",
    "        self.out_ch = out_channels\n",
    "        self.t = t\n",
    "        self.avgPool = nn.AvgPool3d(2)\n",
    "        self.r2cnn1 = R2CNN(self.in_ch, 16, 2)\n",
    "        self.r2cnn2 = R2CNN(16, 32, 2)\n",
    "        self.r2cnn3 = R2CNN(32, 64, 2)\n",
    "        self.r2cnn4 = R2CNN(64, 128, 2)\n",
    "        self.up_conv1 = self.up_conv_layer(128, 64, 3, 2, 1, 1)     \n",
    "        self.r2cnn5 = R2CNN(128, 32, 2)\n",
    "        self.up_conv2 = self.up_conv_layer(32, 32, 3, 2, 1, 1)\n",
    "        self.r2cnn6 = R2CNN(64, 16, 2)\n",
    "        self.up_conv3 = self.up_conv_layer(16, 16, 3, 2, 1, 1)\n",
    "        self.r2cnn7 = R2CNN(32, 16, 2)\n",
    "        self.conv11 = nn.Conv3d(16, self.out_ch, kernel_size = 1, stride=1, padding=0)\n",
    "        \n",
    "    def up_conv_layer(self, in_channels, out_channels, kernel_size, stride=3, padding=1, output_padding=1, bias=True):\n",
    "        layers = nn.Sequential(\n",
    "            nn.ConvTranspose3d(in_channels,out_channels, kernel_size=kernel_size, stride=stride, padding=padding,output_padding=output_padding, bias=True),\n",
    "            nn.ReLU()\n",
    "        )\n",
    "        return layers\n",
    "    \n",
    "    def forward(self, x):\n",
    "        x1 = self.r2cnn1(x)    \n",
    "        x2 = self.avgPool(x1)  \n",
    "        x3 = self.r2cnn2(x2)   \n",
    "        x4 = self.avgPool(x3)  \n",
    "        x5 = self.r2cnn3(x4)   \n",
    "        x6 = self.avgPool(x5)  \n",
    "        x7 = self.r2cnn4(x6)   \n",
    "        x8 = self.up_conv1(x7) \n",
    "        x8 = torch.cat((x5, x8), dim = 1)\n",
    "        x9 = self.r2cnn5(x8)\n",
    "        x10 = self.up_conv2(x9)\n",
    "        x10 = torch.cat((x3, x10), dim = 1)\n",
    "        x11 = self.r2cnn6(x10)\n",
    "        x12 = self.up_conv3(x11)\n",
    "        x12 = torch.cat((x1, x12), dim = 1)\n",
    "        x13 = self.r2cnn7(x12)\n",
    "        x14 = self.conv11(x13)\n",
    "        return x14    \n",
    "        "
   ]
  },
  {
   "cell_type": "code",
   "execution_count": 9,
   "metadata": {},
   "outputs": [],
   "source": [
    "model = R2Unet(1, 1, 2)\n",
    "inputs = torch.randn(1, 1, 32, 32, 32).uniform_(0, 1)\n",
    "output = model(inputs)"
   ]
  },
  {
   "cell_type": "code",
   "execution_count": 10,
   "metadata": {},
   "outputs": [
    {
     "data": {
      "text/plain": [
       "torch.Size([1, 1, 32, 32, 32])"
      ]
     },
     "execution_count": 10,
     "metadata": {},
     "output_type": "execute_result"
    }
   ],
   "source": [
    "output.size()"
   ]
  },
  {
   "cell_type": "code",
   "execution_count": null,
   "metadata": {
    "collapsed": true
   },
   "outputs": [],
   "source": []
  }
 ],
 "metadata": {
  "kernelspec": {
   "display_name": "Python 3",
   "language": "python",
   "name": "python3"
  },
  "language_info": {
   "codemirror_mode": {
    "name": "ipython",
    "version": 3
   },
   "file_extension": ".py",
   "mimetype": "text/x-python",
   "name": "python",
   "nbconvert_exporter": "python",
   "pygments_lexer": "ipython3",
   "version": "3.6.2"
  }
 },
 "nbformat": 4,
 "nbformat_minor": 2
}
