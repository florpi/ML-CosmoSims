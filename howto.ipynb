{
 "cells": [
  {
   "cell_type": "markdown",
   "metadata": {},
   "source": [
    "# Usage "
   ]
  },
  {
   "cell_type": "markdown",
   "metadata": {},
   "source": [
    "## Steps for using the two phase model"
   ]
  },
  {
   "cell_type": "markdown",
   "metadata": {},
   "source": [
    "1. Run classification model with **run_c.s**, save the model to use as a mask for the second phase regression model\n",
    "2. Run regression model with **run_all.s**, save the model.\n",
    "3. Run **Model Precision Notebook** to produce prediction for the entire box, save them for the power specturm plot\n",
    "4. Run the **Power Spectrum Notebook** to plot the power specturm"
   ]
  },
  {
   "cell_type": "markdown",
   "metadata": {},
   "source": [
    "## Classification model "
   ]
  },
  {
   "cell_type": "markdown",
   "metadata": {},
   "source": [
    "### run_c.s documentation"
   ]
  },
  {
   "cell_type": "markdown",
   "metadata": {},
   "source": [
    "New, mainly for running classification model"
   ]
  },
  {
   "cell_type": "markdown",
   "metadata": {},
   "source": [
    "C is aconym for Classifcation, R is aconym for Regression\n",
    "\n",
    "model_idx: \n",
    "- 0 one layer convolution C\n",
    "- 2 inception C\n",
    "- 3 R2Unet C\n",
    "\n"
   ]
  },
  {
   "cell_type": "markdown",
   "metadata": {},
   "source": [
    "- vel: vel = 1 include velocity into input, else = 0(vel for inception don't work for now)\n",
    "- loss_weight: weight for the loss function\n",
    "- normalize: 1 to normalize the data, 0 not to\n",
    "- conv1_out: number of hidden units for the size = 1 kernel\n",
    "- conv3_out: number of hidden units for the size = 3 kernel\n",
    "- conv5_out: number of hidden units for the size = 5 kernel\n",
    "\n",
    "\n",
    "Sample Code is as follows, Sample output model name **pretrained/model_2@6@8@10_80_v0_n1.pth**"
   ]
  },
  {
   "cell_type": "code",
   "execution_count": 7,
   "metadata": {},
   "outputs": [
    {
     "ename": "SyntaxError",
     "evalue": "invalid syntax (<ipython-input-7-188c11bc9df7>, line 10)",
     "output_type": "error",
     "traceback": [
      "\u001b[0;36m  File \u001b[0;32m\"<ipython-input-7-188c11bc9df7>\"\u001b[0;36m, line \u001b[0;32m10\u001b[0m\n\u001b[0;31m    modelname=$modelidx\u001b[0m\n\u001b[0m              ^\u001b[0m\n\u001b[0;31mSyntaxError\u001b[0m\u001b[0;31m:\u001b[0m invalid syntax\n"
     ]
    }
   ],
   "source": [
    "modelidx=2\n",
    "target_class=0\n",
    "vel=0\n",
    "lossweight=80\n",
    "normalize=1\n",
    "conv1_out=6\n",
    "conv3_out=8\n",
    "conv5_out=10\n",
    "\n",
    "modelname=$modelidx\n",
    "if [ $modelidx -eq 2 ] || [ $modelidx -eq 8 ]\n",
    "#if inception, add extra parameter\n",
    "then\n",
    "        modelname=\"${modelname}@${conv1_out}@${conv3_out}@${conv5_out}\"\n",
    "fi\n",
    "\n",
    "name=\"${modelname}_${lossweight}_v${vel}_n${normalize}\"\n",
    "save_name=\"model_${name}\"\n",
    "\n",
    "python src/main.py --lr 0.001 --loss_weight $lossweight --model_idx $modelidx --epochs 30 --target_cat 'count' --target_class ${target_class} --load_model 0 \\\n",
    "--save_name $save_name --normalize $normalize  --record_results 0 --vel $vel > result_full_${name}.txt"
   ]
  },
  {
   "cell_type": "markdown",
   "metadata": {},
   "source": [
    "## Regression Model"
   ]
  },
  {
   "cell_type": "markdown",
   "metadata": {},
   "source": [
    "### run_all.s documentation\n",
    "\n",
    "For the second-phase regression model"
   ]
  },
  {
   "cell_type": "markdown",
   "metadata": {},
   "source": [
    "C is aconym for Classifcation, R is aconym for Regression\n",
    "\n",
    "model_idx: \n",
    "- 4 One layer convolution + R2Unet\n",
    "- 5 R2Unet + R2Unet\n",
    "- 7 inception + R2Unet"
   ]
  },
  {
   "cell_type": "markdown",
   "metadata": {},
   "source": [
    "- C_model: C model name used as the first-phase model\n",
    "- loss_weight: weight for the loss function\n",
    "- normalize: should be the same as C model\n",
    "- vel: should be the same as C model\n",
    "\n",
    "\n",
    "\n",
    "\n",
    "Sample Code is as follows, Sample output model name **model_7_1@model_2@6@8@10_80_v0_n1.pth** **model_7_0.6@model_2@6@8@10_80_v0_n1.pth**"
   ]
  },
  {
   "cell_type": "code",
   "execution_count": null,
   "metadata": {
    "collapsed": true
   },
   "outputs": [],
   "source": [
    "modelidx=7\n",
    "target_class=1\n",
    "# keep vel and normalize the same as the C model\n",
    "vel=0\n",
    "normalize=0\n",
    "#remember to remove .pth\n",
    "C_model=\"model_2@6@8@10_80_v0_n0\"\n",
    "\n",
    "for lossweight in 0.6 1\n",
    "do\n",
    "\n",
    "name=\"${modelidx}_${lossweight}@${C_model}\"\n",
    "save_name=\"model_${name}\"\n",
    "\n",
    "python src/main.py --lr 0.001 --loss_weight $lossweight --model_idx $modelidx --epochs 20 --target_cat 'count' --target_class ${target_class} --load_model 0 \\\n",
    "--save_name $save_name --normalize $normalize  --record_results 0 --vel $vel --C_model $C_model > result_full_${name}.txt\n",
    "\n",
    "done"
   ]
  },
  {
   "cell_type": "markdown",
   "metadata": {},
   "source": [
    "# Evaluation and Visulization"
   ]
  },
  {
   "cell_type": "markdown",
   "metadata": {},
   "source": [
    "### Prediction.ipynb : Used to make predictions for the entire cube.\n",
    "\n",
    "### heatplot.ipynb: Used to visulize the input, target and the predictions from different models.\n",
    "\n",
    "### power_spectrum: Used to plot the power specturm for the prediction obtained from our models and the target.\n"
   ]
  }
 ],
 "metadata": {
  "kernelspec": {
   "display_name": "Python [conda env:anaconda]",
   "language": "python",
   "name": "conda-env-anaconda-py"
  },
  "language_info": {
   "codemirror_mode": {
    "name": "ipython",
    "version": 3
   },
   "file_extension": ".py",
   "mimetype": "text/x-python",
   "name": "python",
   "nbconvert_exporter": "python",
   "pygments_lexer": "ipython3",
   "version": "3.5.3"
  }
 },
 "nbformat": 4,
 "nbformat_minor": 2
}
